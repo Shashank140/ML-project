{
  "cells": [
    {
      "cell_type": "code",
      "execution_count": 1,
      "metadata": {
        "colab": {
          "base_uri": "https://localhost:8080/"
        },
        "id": "4lZZqOHGqUNf",
        "outputId": "a46e79cd-bb18-4799-fc37-34267e73b2f6"
      },
      "outputs": [
        {
          "output_type": "stream",
          "name": "stdout",
          "text": [
            "TensorFlow 1.x selected.\n"
          ]
        }
      ],
      "source": [
        "%tensorflow_version 1.x"
      ]
    },
    {
      "cell_type": "code",
      "execution_count": 2,
      "metadata": {
        "colab": {
          "base_uri": "https://localhost:8080/"
        },
        "id": "YgUW7DVsqh4Q",
        "outputId": "eb24d3ab-1a92-402b-e84a-07c75a8f8f4b"
      },
      "outputs": [
        {
          "output_type": "stream",
          "name": "stdout",
          "text": [
            "Requirement already satisfied: face_detection in /usr/local/lib/python3.7/dist-packages (0.2.2)\n",
            "Requirement already satisfied: numpy in /usr/local/lib/python3.7/dist-packages (from face_detection) (1.21.5)\n",
            "Requirement already satisfied: torchvision>=0.3.0 in /usr/local/lib/python3.7/dist-packages (from face_detection) (0.11.1+cu111)\n",
            "Requirement already satisfied: torch>=1.6 in /usr/local/lib/python3.7/dist-packages (from face_detection) (1.10.0+cu111)\n",
            "Requirement already satisfied: typing-extensions in /usr/local/lib/python3.7/dist-packages (from torch>=1.6->face_detection) (4.1.1)\n",
            "Requirement already satisfied: pillow!=8.3.0,>=5.3.0 in /usr/local/lib/python3.7/dist-packages (from torchvision>=0.3.0->face_detection) (7.1.2)\n"
          ]
        }
      ],
      "source": [
        "!pip install face_detection"
      ]
    },
    {
      "cell_type": "code",
      "execution_count": 3,
      "metadata": {
        "id": "ryPIEtehqZ1F",
        "colab": {
          "base_uri": "https://localhost:8080/"
        },
        "outputId": "865b582f-ab0c-4b50-fd71-02eca598d342"
      },
      "outputs": [
        {
          "output_type": "stream",
          "name": "stderr",
          "text": [
            "Using TensorFlow backend.\n"
          ]
        }
      ],
      "source": [
        "# Import Required Libraries\n",
        "\n",
        "import os\n",
        "import numpy as np\n",
        "import tensorflow as tf\n",
        "import cv2\n",
        "import face_detection\n",
        "from keras.applications import resnet50\n",
        "from keras.models import Model\n",
        "from keras.layers import Dense,Dropout,AveragePooling2D,Flatten\n",
        "from keras.optimizers import Adam\n",
        "from keras.preprocessing.image import ImageDataGenerator\n",
        "import tqdm\n",
        "from cv2 import imshow\n",
        "import matplotlib.pyplot as plt"
      ]
    },
    {
      "cell_type": "code",
      "execution_count": 4,
      "metadata": {
        "id": "UWUk84h6qpMB"
      },
      "outputs": [],
      "source": [
        "# Initialize a Face Detector \n",
        "# Confidence Threshold can be Adjusted, Greater values would Detect only Clear Faces\n",
        "\n",
        "detector = face_detection.build_detector(\"DSFDDetector\", confidence_threshold=.5, nms_iou_threshold=.3)"
      ]
    },
    {
      "cell_type": "code",
      "execution_count": 5,
      "metadata": {
        "id": "MgT5UunlqrWj"
      },
      "outputs": [],
      "source": [
        "# Define Blurring Kernel Size Ranges, a Random Size would be chosen in the Specified Ranges\n",
        "# Greater the Size, Higher is the Blurring Effect (Adjustments can be made according to the needs)\n",
        "\n",
        "motion_blur_kernel_range = (4,8)  \n",
        "average_blur_kernel_range = (3,7)\n",
        "gaussian_blur_kernel_range = (3,8)"
      ]
    },
    {
      "cell_type": "code",
      "execution_count": 6,
      "metadata": {
        "id": "wrzLNlvzqvTO"
      },
      "outputs": [],
      "source": [
        "# Set Blurring Kernels to Use and their associated Probabilities\n",
        "\n",
        "Blurring_Kernels = [\"none\",\"motion\",\"gaussian\",\"average\"]\n",
        "Probs = [0.75,0.1,0.05,0.1]"
      ]
    },
    {
      "cell_type": "code",
      "execution_count": 7,
      "metadata": {
        "id": "9xDd1qYGqx3z"
      },
      "outputs": [],
      "source": [
        "# Add Motion Blur to an Image in a Random Direction\n",
        "\n",
        "def motion_blur(img):\n",
        "\n",
        "  # Choose a Random Kernel Size\n",
        "  kernel_size = np.random.randint(motion_blur_kernel_range[0],motion_blur_kernel_range[1])\n",
        "  kernel = np.zeros((kernel_size, kernel_size))\n",
        "\n",
        "  # Random Selection of Direction of Motion Blur\n",
        "  types = [\"vertical\",\"horizontal\",\"main_diagonal\",\"anti_diagonal\"]\n",
        "  choice = np.random.choice(types)\n",
        "\n",
        "  if choice==\"vertical\":\n",
        "    kernel[:,int((kernel_size-1)/2)] = np.ones(kernel_size)/kernel_size\n",
        "  \n",
        "  elif choice==\"horizontal\":\n",
        "    kernel[int((kernel_size-1)/2),:] = np.ones(kernel_size)/kernel_size\n",
        "  \n",
        "  elif choice==\"main_diagonal\":\n",
        "    \n",
        "    for i in range(kernel_size):\n",
        "      kernel[i][i] = 1/kernel_size\n",
        "\n",
        "  elif choice==\"anti_diagonal\":\n",
        "\n",
        "    for i in range(kernel_size):\n",
        "      kernel[i][kernel_size-i-1] = 1/kernel_size\n",
        "\n",
        "  # Convolve and Return the Blurred Image\n",
        "  return cv2.filter2D(img,-1,kernel)"
      ]
    },
    {
      "cell_type": "code",
      "execution_count": 8,
      "metadata": {
        "id": "NSvoibrZq0GM"
      },
      "outputs": [],
      "source": [
        "# Add a Random Blur Effect to an Image with a Random Kernel Size (in the Specified Ranges)\n",
        "\n",
        "def get_blurred_picture(img):\n",
        "  \n",
        "  # Randomly choose a Blurring Technique\n",
        "  choice = np.random.choice(Blurring_Kernels,p=Probs)\n",
        "\n",
        "  # RGB to BGR for OpenCV\n",
        "  img = img[:,:,::-1]\n",
        "\n",
        "  if choice==\"none\":\n",
        "\n",
        "    random_blurred_img = img\n",
        "\n",
        "  elif choice==\"motion\":\n",
        "  \n",
        "    random_blurred_img  = motion_blur(img)\n",
        "\n",
        "  elif choice==\"gaussian\":\n",
        "\n",
        "    kernel_size = np.random.randint(gaussian_blur_kernel_range[0],gaussian_blur_kernel_range[1])\n",
        "\n",
        "    if kernel_size%2==0:\n",
        "      kernel_size-=1\n",
        "    \n",
        "    random_blurred_img = cv2.GaussianBlur(img,(kernel_size,kernel_size),0)\n",
        "\n",
        "  elif choice==\"average\":\n",
        "  \n",
        "    kernel_size = np.random.randint(average_blur_kernel_range[0],average_blur_kernel_range[1])\n",
        "    random_blurred_img = cv2.blur(img,(kernel_size,kernel_size))\n",
        "\n",
        "  # PreProcess for ResNet50\n",
        "  preprocessed = resnet50.preprocess_input(random_blurred_img[:,:,::-1])\n",
        "  \n",
        "  return preprocessed "
      ]
    },
    {
      "cell_type": "code",
      "execution_count": 9,
      "metadata": {
        "colab": {
          "base_uri": "https://localhost:8080/"
        },
        "id": "G-d5mNMGq2g_",
        "outputId": "5b101b96-9ffd-4460-a6e8-eca7af2d587a"
      },
      "outputs": [
        {
          "output_type": "stream",
          "name": "stdout",
          "text": [
            "WARNING:tensorflow:From /tensorflow-1.15.2/python3.7/tensorflow_core/python/ops/resource_variable_ops.py:1630: calling BaseResourceVariable.__init__ (from tensorflow.python.ops.resource_variable_ops) with constraint is deprecated and will be removed in a future version.\n",
            "Instructions for updating:\n",
            "If using Keras pass *_constraint arguments to layers.\n",
            "WARNING:tensorflow:From /tensorflow-1.15.2/python3.7/keras/backend/tensorflow_backend.py:4070: The name tf.nn.max_pool is deprecated. Please use tf.nn.max_pool2d instead.\n",
            "\n"
          ]
        },
        {
          "output_type": "stream",
          "name": "stderr",
          "text": [
            "/tensorflow-1.15.2/python3.7/keras_applications/resnet50.py:265: UserWarning: The output shape of `ResNet50(include_top=False)` has been changed since Keras 2.2.0.\n",
            "  warnings.warn('The output shape of `ResNet50(include_top=False)` '\n"
          ]
        }
      ],
      "source": [
        "# Load Pretrained ResNet50 Model (without Last few Layers) \n",
        "# Freeze all the Layers\n",
        "\n",
        "base_network  = resnet50.ResNet50(input_shape = (224,224,3),weights='imagenet',include_top=False)\n",
        "for layer in base_network.layers:\n",
        "  layer.trainaibale = False"
      ]
    },
    {
      "cell_type": "code",
      "execution_count": 10,
      "metadata": {
        "colab": {
          "base_uri": "https://localhost:8080/"
        },
        "id": "NFsZ9y89q9S4",
        "outputId": "63763e95-3e0d-4a3c-ff7b-f56115c6e669"
      },
      "outputs": [
        {
          "output_type": "stream",
          "name": "stdout",
          "text": [
            "WARNING:tensorflow:From /tensorflow-1.15.2/python3.7/keras/backend/tensorflow_backend.py:4074: The name tf.nn.avg_pool is deprecated. Please use tf.nn.avg_pool2d instead.\n",
            "\n"
          ]
        }
      ],
      "source": [
        "# Define the Face Mask Classifier Model by adding a few Layers on top of the ResNet50 Pretrained Model\n",
        "\n",
        "classifier_network = base_network.output\n",
        "classifier_network = AveragePooling2D(pool_size=(7, 7),name = \"Average_Pool_Final\")(classifier_network)\n",
        "classifier_network = Flatten(name = \"Flatten_Final\")(classifier_network)\n",
        "classifier_network = Dense(128, activation=\"relu\",name = \"Dense_Final\")(classifier_network)\n",
        "classifier_network = Dropout(0.5,name = \"Dropout_Final\")(classifier_network)\n",
        "classifier_network = Dense(1, activation=\"sigmoid\", name = \"Sigmoid_Classifier\" )(classifier_network)\n",
        "\n",
        "mask_classifier = Model(inputs=base_network.input, outputs=classifier_network)"
      ]
    },
    {
      "cell_type": "code",
      "execution_count": 15,
      "metadata": {
        "id": "P1owK-IBrGlK"
      },
      "outputs": [],
      "source": [
        "# Set Path to the Dataset\n",
        "# Faces would be extracted and placed in the specified Directory after Processing\n",
        "\n",
        "Dataset_PATH = \"/content/drive/MyDrive/ML/dataset\"\n",
        "Processed_Dataset_PATH = \"/content/drive/MyDrive/ML/pre_processed\"\n",
        "\n",
        "# Create Empty Directories\n",
        "#os.mkdir(Processed_Dataset_PATH)\n",
        "#os.mkdir(os.path.join(Processed_Dataset_PATH,\"with_mask\"))\n",
        "#os.mkdir(os.path.join(Processed_Dataset_PATH,\"without_mask\"))"
      ]
    },
    {
      "cell_type": "code",
      "execution_count": null,
      "metadata": {
        "colab": {
          "base_uri": "https://localhost:8080/",
          "height": 81,
          "referenced_widgets": [
            "e1a06a9e7723490797d32005098d2a9d",
            "a2a8202498014376811d52eb7290bc1c",
            "5c2a1c23cdd44d3c9ddd7c964ec64348",
            "3aef10b6b0d84393b31b537ad28081f5",
            "b1e53ab279684ebf8e9ef4d4e8bba331",
            "310a771ad4d044bf9e5626199aa7802f",
            "b5b30b6f01534f51b93424a9896bb872",
            "d0b6f1586df04a99bfa3160b99bf9779",
            "35157a6221d24e3e835bd30f284d0c5e",
            "0491a10c9b014ef281ebf87918f3b67c",
            "68eae7d2eaa3479eae5b409701d151bb",
            "d0fc2c0b981b4d69941957346f90dde7",
            "402b96ad1a5f46178d6f1ca9a42b28e3",
            "f46d3d1149224076bf09cb956dc362ba",
            "88a0b7746cc2470999e120c55eeec546",
            "4fdd31dac260433ab43a1edf87157a86",
            "c17d15fe48fd44d69625b99877c09b28",
            "db7a3e6bb89f41e39b21c09dd37a9ffb",
            "aff036b5152e4ee48c49fa0b6b045abf",
            "9e14812561a54864980fcda91553f661",
            "7fbeac8660e043fcaf0cdc15d71df47a",
            "be3ee39fdfe34224aa94a039ab3a6c65"
          ]
        },
        "id": "LI5P4O4BrTn7",
        "outputId": "cf68dc5a-e7f1-4085-fbf9-849d4a24bf45"
      },
      "outputs": [
        {
          "output_type": "display_data",
          "data": {
            "text/plain": [
              "  0%|          | 0/703 [00:00<?, ?it/s]"
            ],
            "application/vnd.jupyter.widget-view+json": {
              "version_major": 2,
              "version_minor": 0,
              "model_id": "e1a06a9e7723490797d32005098d2a9d"
            }
          },
          "metadata": {}
        },
        {
          "output_type": "display_data",
          "data": {
            "text/plain": [
              "  0%|          | 0/699 [00:00<?, ?it/s]"
            ],
            "application/vnd.jupyter.widget-view+json": {
              "version_major": 2,
              "version_minor": 0,
              "model_id": "d0fc2c0b981b4d69941957346f90dde7"
            }
          },
          "metadata": {}
        }
      ],
      "source": [
        "# Prepare the Data for Training \n",
        "# Extract Faces from the Dataset and Save them in the specified Directory\n",
        "\n",
        "# There should be 2 Sub-Directories corresponding to Masked and Non-Masked Faces\n",
        "paths = [\"with_mask\",\"without_mask\"]\n",
        "\n",
        "for path in paths:\n",
        "\n",
        "  curr_path = os.path.join(Dataset_PATH,path)\n",
        "  \n",
        "  # Loop through all Images\n",
        "  for file_name in tqdm.notebook.tqdm(os.listdir(curr_path)):\n",
        "\n",
        "    try:\n",
        "      \n",
        "      image = cv2.imread(os.path.join(curr_path,file_name))\n",
        "\n",
        "      # Detect Faces, Crop and Save\n",
        "      detections = detector.detect(image[:,:,::-1])\n",
        "\n",
        "      for j in range(len(detections)):\n",
        "    \n",
        "        face = image[int(detections[j][1]):int(detections[j][3]),\n",
        "                     int(detections[j][0]):int(detections[j][2])]\n",
        "        \n",
        "        cv2.imwrite(os.path.join(Processed_Dataset_PATH,path)+\"/\"+file_name,face)\n",
        "    \n",
        "    except:\n",
        "      continue"
      ]
    },
    {
      "cell_type": "code",
      "source": [
        "# Set the Hyper-Parameters\n",
        "\n",
        "alpha = 0.00001\n",
        "n_epochs = 5\n",
        "mini_batch_size = 32"
      ],
      "metadata": {
        "id": "9xBo6zlJbUlK"
      },
      "execution_count": 11,
      "outputs": []
    },
    {
      "cell_type": "code",
      "source": [
        "# Compile the Model\n",
        "\n",
        "opt = Adam(learning_rate=alpha,decay = alpha/n_epochs)\n",
        "mask_classifier.compile(optimizer=opt,loss=\"binary_crossentropy\",metrics = ['accuracy'])"
      ],
      "metadata": {
        "colab": {
          "base_uri": "https://localhost:8080/"
        },
        "id": "hOT7XcY7bbAm",
        "outputId": "b21a07cb-2b92-451b-a2c3-01f6af301332"
      },
      "execution_count": 12,
      "outputs": [
        {
          "output_type": "stream",
          "name": "stdout",
          "text": [
            "WARNING:tensorflow:From /tensorflow-1.15.2/python3.7/tensorflow_core/python/ops/nn_impl.py:183: where (from tensorflow.python.ops.array_ops) is deprecated and will be removed in a future version.\n",
            "Instructions for updating:\n",
            "Use tf.where in 2.0, which has the same broadcast rule as np.where\n"
          ]
        }
      ]
    },
    {
      "cell_type": "code",
      "source": [
        "# Define a ImageDataGenerator for Real-Time Data Augmentation\n",
        "# Parameters can be Tuned for controlling the Augmentation\n",
        "\n",
        "Data_Generator = ImageDataGenerator(horizontal_flip=True,\n",
        "                                    brightness_range=[0.5,1.25],\n",
        "                                    zoom_range=[0.8,1],\n",
        "                                    rotation_range = 15,\n",
        "                                    preprocessing_function=get_blurred_picture)"
      ],
      "metadata": {
        "id": "jm9lh_i_bdL7"
      },
      "execution_count": 13,
      "outputs": []
    },
    {
      "cell_type": "code",
      "source": [
        "# Create a Data_Generator Instance\n",
        "\n",
        "Train_Data_Generator = Data_Generator.flow_from_directory(Processed_Dataset_PATH,target_size=(224,224),\n",
        "                                                          class_mode=\"binary\",batch_size=mini_batch_size)"
      ],
      "metadata": {
        "id": "eSh7TgYqbfeU",
        "colab": {
          "base_uri": "https://localhost:8080/"
        },
        "outputId": "6fdce2bd-d654-4d15-87ab-9ffa5a62ad07"
      },
      "execution_count": 16,
      "outputs": [
        {
          "output_type": "stream",
          "name": "stdout",
          "text": [
            "Found 1410 images belonging to 2 classes.\n"
          ]
        }
      ]
    },
    {
      "cell_type": "code",
      "source": [
        "# Train the Model\n",
        "\n",
        "mask_classifier.fit(x=Train_Data_Generator,\n",
        "                    steps_per_epoch=(Train_Data_Generator.n//mini_batch_size),\n",
        "                    epochs=n_epochs)"
      ],
      "metadata": {
        "colab": {
          "base_uri": "https://localhost:8080/"
        },
        "id": "EgjVPm3HfkuI",
        "outputId": "1fd1eca2-6905-4c54-a05e-a4066d154ce1"
      },
      "execution_count": 17,
      "outputs": [
        {
          "output_type": "stream",
          "name": "stdout",
          "text": [
            "WARNING:tensorflow:From /tensorflow-1.15.2/python3.7/keras/backend/tensorflow_backend.py:422: The name tf.global_variables is deprecated. Please use tf.compat.v1.global_variables instead.\n",
            "\n",
            "Epoch 1/5\n",
            "44/44 [==============================] - 165s 4s/step - loss: 0.4688 - accuracy: 0.7801\n",
            "Epoch 2/5\n",
            "44/44 [==============================] - 49s 1s/step - loss: 0.1991 - accuracy: 0.9289\n",
            "Epoch 3/5\n",
            "44/44 [==============================] - 39s 877ms/step - loss: 0.1161 - accuracy: 0.9594\n",
            "Epoch 4/5\n",
            "44/44 [==============================] - 38s 873ms/step - loss: 0.0777 - accuracy: 0.9768\n",
            "Epoch 5/5\n",
            "44/44 [==============================] - 39s 881ms/step - loss: 0.0661 - accuracy: 0.9833\n"
          ]
        },
        {
          "output_type": "execute_result",
          "data": {
            "text/plain": [
              "<keras.callbacks.callbacks.History at 0x7f2fb9a3d650>"
            ]
          },
          "metadata": {},
          "execution_count": 17
        }
      ]
    },
    {
      "cell_type": "code",
      "source": [
        "# Test the Model on a Picture\n",
        "\n",
        "FILE_PATH = \"/content/drive/MyDrive/ML/dataset/Test_Images/test_3.jpg\"\n",
        "\n",
        "img = cv2.imread(FILE_PATH)\n",
        "masked_faces = []\n",
        "unmasked_faces = []\n",
        "\n",
        "# Detect Faces\n",
        "detections = detector.detect(img[:,:,::-1])\n",
        "\n",
        "if detections.shape[0]>0:\n",
        "      \n",
        "  for i in range(detections.shape[0]):\n",
        "  \n",
        "    # Get Co-ordinates\n",
        "    x1 = int(detections[i][0])\n",
        "    x2 = int(detections[i][2])\n",
        "    y1 = int(detections[i][1])\n",
        "    y2 = int(detections[i][3])\n",
        "\n",
        "    # Predict Output\n",
        "    face_arr = cv2.resize(img[y1:y2,x1:x2,::-1], (224, 224), interpolation=cv2.INTER_NEAREST)\n",
        "    face_arr = np.expand_dims(face_arr, axis=0)\n",
        "    face_arr = resnet50.preprocess_input(face_arr)\n",
        "    match = mask_classifier.predict(face_arr)\n",
        "\n",
        "    if match[0][0]<0.5:\n",
        "      masked_faces.append([x1,y1,x2,y2])\n",
        "    else:\n",
        "      unmasked_faces.append([x1,y1,x2,y2])\n",
        "\n",
        "# Put Bounding Box on the Faces (Green:Masked,Red:Not-Masked)\n",
        "for f in range(len(masked_faces)):\n",
        "\n",
        "  a,b,c,d = masked_faces[f]\n",
        "  cv2.rectangle(img, (a,b), (c,d), (0,255,0), 2)\n",
        "\n",
        "for f in range(len(unmasked_faces)):\n",
        "\n",
        "  a,b,c,d = unmasked_faces[f]\n",
        "  cv2.rectangle(img, (a,b), (c,d), (0,0,255), 2)\n",
        "\n",
        "# Show Results\n",
        "#cv2.imshow('photo', img)\n",
        "#cv2.waitKey(0)\n",
        "plt.imshow(img[...,::-1])"
      ],
      "metadata": {
        "id": "G6GOzVLgbjk1",
        "colab": {
          "base_uri": "https://localhost:8080/",
          "height": 286
        },
        "outputId": "722fbe94-3e9a-4427-b08f-a8002859726a"
      },
      "execution_count": 20,
      "outputs": [
        {
          "output_type": "execute_result",
          "data": {
            "text/plain": [
              "<matplotlib.image.AxesImage at 0x7f2fb401c4d0>"
            ]
          },
          "metadata": {},
          "execution_count": 20
        },
        {
          "output_type": "display_data",
          "data": {
            "text/plain": [
              "<Figure size 432x288 with 1 Axes>"
            ],
            "image/png": "[encoded data removed]"
          },
          "metadata": {
            "needs_background": "light"
          }
        }
      ]
    }
  ],
  "metadata": {
    "colab": {
      "name": "Mask_detector.ipynb",
      "provenance": []
    },
    "kernelspec": {
      "display_name": "Python 3",
      "name": "python3"
    },
    "language_info": {
      "name": "python"
    },
    "widgets": {
      "application/vnd.jupyter.widget-state+json": {
        "e1a06a9e7723490797d32005098d2a9d": {
          "model_module": "@jupyter-widgets/controls",
          "model_name": "HBoxModel",
          "model_module_version": "1.5.0",
          "state": {
            "_dom_classes": [],
            "_model_module": "@jupyter-widgets/controls",
            "_model_module_version": "1.5.0",
            "_model_name": "HBoxModel",
            "_view_count": null,
            "_view_module": "@jupyter-widgets/controls",
            "_view_module_version": "1.5.0",
            "_view_name": "HBoxView",
            "box_style": "",
            "children": [
              "IPY_MODEL_a2a8202498014376811d52eb7290bc1c",
              "IPY_MODEL_5c2a1c23cdd44d3c9ddd7c964ec64348",
              "IPY_MODEL_3aef10b6b0d84393b31b537ad28081f5"
            ],
            "layout": "IPY_MODEL_b1e53ab279684ebf8e9ef4d4e8bba331"
          }
        },
        "a2a8202498014376811d52eb7290bc1c": {
          "model_module": "@jupyter-widgets/controls",
          "model_name": "HTMLModel",
          "model_module_version": "1.5.0",
          "state": {
            "_dom_classes": [],
            "_model_module": "@jupyter-widgets/controls",
            "_model_module_version": "1.5.0",
            "_model_name": "HTMLModel",
            "_view_count": null,
            "_view_module": "@jupyter-widgets/controls",
            "_view_module_version": "1.5.0",
            "_view_name": "HTMLView",
            "description": "",
            "description_tooltip": null,
            "layout": "IPY_MODEL_310a771ad4d044bf9e5626199aa7802f",
            "placeholder": "​",
            "style": "IPY_MODEL_b5b30b6f01534f51b93424a9896bb872",
            "value": "100%"
          }
        },
        "5c2a1c23cdd44d3c9ddd7c964ec64348": {
          "model_module": "@jupyter-widgets/controls",
          "model_name": "FloatProgressModel",
          "model_module_version": "1.5.0",
          "state": {
            "_dom_classes": [],
            "_model_module": "@jupyter-widgets/controls",
            "_model_module_version": "1.5.0",
            "_model_name": "FloatProgressModel",
            "_view_count": null,
            "_view_module": "@jupyter-widgets/controls",
            "_view_module_version": "1.5.0",
            "_view_name": "ProgressView",
            "bar_style": "success",
            "description": "",
            "description_tooltip": null,
            "layout": "IPY_MODEL_d0b6f1586df04a99bfa3160b99bf9779",
            "max": 703,
            "min": 0,
            "orientation": "horizontal",
            "style": "IPY_MODEL_35157a6221d24e3e835bd30f284d0c5e",
            "value": 703
          }
        },
        "3aef10b6b0d84393b31b537ad28081f5": {
          "model_module": "@jupyter-widgets/controls",
          "model_name": "HTMLModel",
          "model_module_version": "1.5.0",
          "state": {
            "_dom_classes": [],
            "_model_module": "@jupyter-widgets/controls",
            "_model_module_version": "1.5.0",
            "_model_name": "HTMLModel",
            "_view_count": null,
            "_view_module": "@jupyter-widgets/controls",
            "_view_module_version": "1.5.0",
            "_view_name": "HTMLView",
            "description": "",
            "description_tooltip": null,
            "layout": "IPY_MODEL_0491a10c9b014ef281ebf87918f3b67c",
            "placeholder": "​",
            "style": "IPY_MODEL_68eae7d2eaa3479eae5b409701d151bb",
            "value": " 703/703 [06:03&lt;00:00,  2.33it/s]"
          }
        },
        "b1e53ab279684ebf8e9ef4d4e8bba331": {
          "model_module": "@jupyter-widgets/base",
          "model_name": "LayoutModel",
          "model_module_version": "1.2.0",
          "state": {
            "_model_module": "@jupyter-widgets/base",
            "_model_module_version": "1.2.0",
            "_model_name": "LayoutModel",
            "_view_count": null,
            "_view_module": "@jupyter-widgets/base",
            "_view_module_version": "1.2.0",
            "_view_name": "LayoutView",
            "align_content": null,
            "align_items": null,
            "align_self": null,
            "border": null,
            "bottom": null,
            "display": null,
            "flex": null,
            "flex_flow": null,
            "grid_area": null,
            "grid_auto_columns": null,
            "grid_auto_flow": null,
            "grid_auto_rows": null,
            "grid_column": null,
            "grid_gap": null,
            "grid_row": null,
            "grid_template_areas": null,
            "grid_template_columns": null,
            "grid_template_rows": null,
            "height": null,
            "justify_content": null,
            "justify_items": null,
            "left": null,
            "margin": null,
            "max_height": null,
            "max_width": null,
            "min_height": null,
            "min_width": null,
            "object_fit": null,
            "object_position": null,
            "order": null,
            "overflow": null,
            "overflow_x": null,
            "overflow_y": null,
            "padding": null,
            "right": null,
            "top": null,
            "visibility": null,
            "width": null
          }
        },
        "310a771ad4d044bf9e5626199aa7802f": {
          "model_module": "@jupyter-widgets/base",
          "model_name": "LayoutModel",
          "model_module_version": "1.2.0",
          "state": {
            "_model_module": "@jupyter-widgets/base",
            "_model_module_version": "1.2.0",
            "_model_name": "LayoutModel",
            "_view_count": null,
            "_view_module": "@jupyter-widgets/base",
            "_view_module_version": "1.2.0",
            "_view_name": "LayoutView",
            "align_content": null,
            "align_items": null,
            "align_self": null,
            "border": null,
            "bottom": null,
            "display": null,
            "flex": null,
            "flex_flow": null,
            "grid_area": null,
            "grid_auto_columns": null,
            "grid_auto_flow": null,
            "grid_auto_rows": null,
            "grid_column": null,
            "grid_gap": null,
            "grid_row": null,
            "grid_template_areas": null,
            "grid_template_columns": null,
            "grid_template_rows": null,
            "height": null,
            "justify_content": null,
            "justify_items": null,
            "left": null,
            "margin": null,
            "max_height": null,
            "max_width": null,
            "min_height": null,
            "min_width": null,
            "object_fit": null,
            "object_position": null,
            "order": null,
            "overflow": null,
            "overflow_x": null,
            "overflow_y": null,
            "padding": null,
            "right": null,
            "top": null,
            "visibility": null,
            "width": null
          }
        },
        "b5b30b6f01534f51b93424a9896bb872": {
          "model_module": "@jupyter-widgets/controls",
          "model_name": "DescriptionStyleModel",
          "model_module_version": "1.5.0",
          "state": {
            "_model_module": "@jupyter-widgets/controls",
            "_model_module_version": "1.5.0",
            "_model_name": "DescriptionStyleModel",
            "_view_count": null,
            "_view_module": "@jupyter-widgets/base",
            "_view_module_version": "1.2.0",
            "_view_name": "StyleView",
            "description_width": ""
          }
        },
        "d0b6f1586df04a99bfa3160b99bf9779": {
          "model_module": "@jupyter-widgets/base",
          "model_name": "LayoutModel",
          "model_module_version": "1.2.0",
          "state": {
            "_model_module": "@jupyter-widgets/base",
            "_model_module_version": "1.2.0",
            "_model_name": "LayoutModel",
            "_view_count": null,
            "_view_module": "@jupyter-widgets/base",
            "_view_module_version": "1.2.0",
            "_view_name": "LayoutView",
            "align_content": null,
            "align_items": null,
            "align_self": null,
            "border": null,
            "bottom": null,
            "display": null,
            "flex": null,
            "flex_flow": null,
            "grid_area": null,
            "grid_auto_columns": null,
            "grid_auto_flow": null,
            "grid_auto_rows": null,
            "grid_column": null,
            "grid_gap": null,
            "grid_row": null,
            "grid_template_areas": null,
            "grid_template_columns": null,
            "grid_template_rows": null,
            "height": null,
            "justify_content": null,
            "justify_items": null,
            "left": null,
            "margin": null,
            "max_height": null,
            "max_width": null,
            "min_height": null,
            "min_width": null,
            "object_fit": null,
            "object_position": null,
            "order": null,
            "overflow": null,
            "overflow_x": null,
            "overflow_y": null,
            "padding": null,
            "right": null,
            "top": null,
            "visibility": null,
            "width": null
          }
        },
        "35157a6221d24e3e835bd30f284d0c5e": {
          "model_module": "@jupyter-widgets/controls",
          "model_name": "ProgressStyleModel",
          "model_module_version": "1.5.0",
          "state": {
            "_model_module": "@jupyter-widgets/controls",
            "_model_module_version": "1.5.0",
            "_model_name": "ProgressStyleModel",
            "_view_count": null,
            "_view_module": "@jupyter-widgets/base",
            "_view_module_version": "1.2.0",
            "_view_name": "StyleView",
            "bar_color": null,
            "description_width": ""
          }
        },
        "0491a10c9b014ef281ebf87918f3b67c": {
          "model_module": "@jupyter-widgets/base",
          "model_name": "LayoutModel",
          "model_module_version": "1.2.0",
          "state": {
            "_model_module": "@jupyter-widgets/base",
            "_model_module_version": "1.2.0",
            "_model_name": "LayoutModel",
            "_view_count": null,
            "_view_module": "@jupyter-widgets/base",
            "_view_module_version": "1.2.0",
            "_view_name": "LayoutView",
            "align_content": null,
            "align_items": null,
            "align_self": null,
            "border": null,
            "bottom": null,
            "display": null,
            "flex": null,
            "flex_flow": null,
            "grid_area": null,
            "grid_auto_columns": null,
            "grid_auto_flow": null,
            "grid_auto_rows": null,
            "grid_column": null,
            "grid_gap": null,
            "grid_row": null,
            "grid_template_areas": null,
            "grid_template_columns": null,
            "grid_template_rows": null,
            "height": null,
            "justify_content": null,
            "justify_items": null,
            "left": null,
            "margin": null,
            "max_height": null,
            "max_width": null,
            "min_height": null,
            "min_width": null,
            "object_fit": null,
            "object_position": null,
            "order": null,
            "overflow": null,
            "overflow_x": null,
            "overflow_y": null,
            "padding": null,
            "right": null,
            "top": null,
            "visibility": null,
            "width": null
          }
        },
        "68eae7d2eaa3479eae5b409701d151bb": {
          "model_module": "@jupyter-widgets/controls",
          "model_name": "DescriptionStyleModel",
          "model_module_version": "1.5.0",
          "state": {
            "_model_module": "@jupyter-widgets/controls",
            "_model_module_version": "1.5.0",
            "_model_name": "DescriptionStyleModel",
            "_view_count": null,
            "_view_module": "@jupyter-widgets/base",
            "_view_module_version": "1.2.0",
            "_view_name": "StyleView",
            "description_width": ""
          }
        },
        "d0fc2c0b981b4d69941957346f90dde7": {
          "model_module": "@jupyter-widgets/controls",
          "model_name": "HBoxModel",
          "model_module_version": "1.5.0",
          "state": {
            "_dom_classes": [],
            "_model_module": "@jupyter-widgets/controls",
            "_model_module_version": "1.5.0",
            "_model_name": "HBoxModel",
            "_view_count": null,
            "_view_module": "@jupyter-widgets/controls",
            "_view_module_version": "1.5.0",
            "_view_name": "HBoxView",
            "box_style": "",
            "children": [
              "IPY_MODEL_402b96ad1a5f46178d6f1ca9a42b28e3",
              "IPY_MODEL_f46d3d1149224076bf09cb956dc362ba",
              "IPY_MODEL_88a0b7746cc2470999e120c55eeec546"
            ],
            "layout": "IPY_MODEL_4fdd31dac260433ab43a1edf87157a86"
          }
        },
        "402b96ad1a5f46178d6f1ca9a42b28e3": {
          "model_module": "@jupyter-widgets/controls",
          "model_name": "HTMLModel",
          "model_module_version": "1.5.0",
          "state": {
            "_dom_classes": [],
            "_model_module": "@jupyter-widgets/controls",
            "_model_module_version": "1.5.0",
            "_model_name": "HTMLModel",
            "_view_count": null,
            "_view_module": "@jupyter-widgets/controls",
            "_view_module_version": "1.5.0",
            "_view_name": "HTMLView",
            "description": "",
            "description_tooltip": null,
            "layout": "IPY_MODEL_c17d15fe48fd44d69625b99877c09b28",
            "placeholder": "​",
            "style": "IPY_MODEL_db7a3e6bb89f41e39b21c09dd37a9ffb",
            "value": "100%"
          }
        },
        "f46d3d1149224076bf09cb956dc362ba": {
          "model_module": "@jupyter-widgets/controls",
          "model_name": "FloatProgressModel",
          "model_module_version": "1.5.0",
          "state": {
            "_dom_classes": [],
            "_model_module": "@jupyter-widgets/controls",
            "_model_module_version": "1.5.0",
            "_model_name": "FloatProgressModel",
            "_view_count": null,
            "_view_module": "@jupyter-widgets/controls",
            "_view_module_version": "1.5.0",
            "_view_name": "ProgressView",
            "bar_style": "success",
            "description": "",
            "description_tooltip": null,
            "layout": "IPY_MODEL_aff036b5152e4ee48c49fa0b6b045abf",
            "max": 699,
            "min": 0,
            "orientation": "horizontal",
            "style": "IPY_MODEL_9e14812561a54864980fcda91553f661",
            "value": 699
          }
        },
        "88a0b7746cc2470999e120c55eeec546": {
          "model_module": "@jupyter-widgets/controls",
          "model_name": "HTMLModel",
          "model_module_version": "1.5.0",
          "state": {
            "_dom_classes": [],
            "_model_module": "@jupyter-widgets/controls",
            "_model_module_version": "1.5.0",
            "_model_name": "HTMLModel",
            "_view_count": null,
            "_view_module": "@jupyter-widgets/controls",
            "_view_module_version": "1.5.0",
            "_view_name": "HTMLView",
            "description": "",
            "description_tooltip": null,
            "layout": "IPY_MODEL_7fbeac8660e043fcaf0cdc15d71df47a",
            "placeholder": "​",
            "style": "IPY_MODEL_be3ee39fdfe34224aa94a039ab3a6c65",
            "value": " 699/699 [04:09&lt;00:00,  4.17it/s]"
          }
        },
        "4fdd31dac260433ab43a1edf87157a86": {
          "model_module": "@jupyter-widgets/base",
          "model_name": "LayoutModel",
          "model_module_version": "1.2.0",
          "state": {
            "_model_module": "@jupyter-widgets/base",
            "_model_module_version": "1.2.0",
            "_model_name": "LayoutModel",
            "_view_count": null,
            "_view_module": "@jupyter-widgets/base",
            "_view_module_version": "1.2.0",
            "_view_name": "LayoutView",
            "align_content": null,
            "align_items": null,
            "align_self": null,
            "border": null,
            "bottom": null,
            "display": null,
            "flex": null,
            "flex_flow": null,
            "grid_area": null,
            "grid_auto_columns": null,
            "grid_auto_flow": null,
            "grid_auto_rows": null,
            "grid_column": null,
            "grid_gap": null,
            "grid_row": null,
            "grid_template_areas": null,
            "grid_template_columns": null,
            "grid_template_rows": null,
            "height": null,
            "justify_content": null,
            "justify_items": null,
            "left": null,
            "margin": null,
            "max_height": null,
            "max_width": null,
            "min_height": null,
            "min_width": null,
            "object_fit": null,
            "object_position": null,
            "order": null,
            "overflow": null,
            "overflow_x": null,
            "overflow_y": null,
            "padding": null,
            "right": null,
            "top": null,
            "visibility": null,
            "width": null
          }
        },
        "c17d15fe48fd44d69625b99877c09b28": {
          "model_module": "@jupyter-widgets/base",
          "model_name": "LayoutModel",
          "model_module_version": "1.2.0",
          "state": {
            "_model_module": "@jupyter-widgets/base",
            "_model_module_version": "1.2.0",
            "_model_name": "LayoutModel",
            "_view_count": null,
            "_view_module": "@jupyter-widgets/base",
            "_view_module_version": "1.2.0",
            "_view_name": "LayoutView",
            "align_content": null,
            "align_items": null,
            "align_self": null,
            "border": null,
            "bottom": null,
            "display": null,
            "flex": null,
            "flex_flow": null,
            "grid_area": null,
            "grid_auto_columns": null,
            "grid_auto_flow": null,
            "grid_auto_rows": null,
            "grid_column": null,
            "grid_gap": null,
            "grid_row": null,
            "grid_template_areas": null,
            "grid_template_columns": null,
            "grid_template_rows": null,
            "height": null,
            "justify_content": null,
            "justify_items": null,
            "left": null,
            "margin": null,
            "max_height": null,
            "max_width": null,
            "min_height": null,
            "min_width": null,
            "object_fit": null,
            "object_position": null,
            "order": null,
            "overflow": null,
            "overflow_x": null,
            "overflow_y": null,
            "padding": null,
            "right": null,
            "top": null,
            "visibility": null,
            "width": null
          }
        },
        "db7a3e6bb89f41e39b21c09dd37a9ffb": {
          "model_module": "@jupyter-widgets/controls",
          "model_name": "DescriptionStyleModel",
          "model_module_version": "1.5.0",
          "state": {
            "_model_module": "@jupyter-widgets/controls",
            "_model_module_version": "1.5.0",
            "_model_name": "DescriptionStyleModel",
            "_view_count": null,
            "_view_module": "@jupyter-widgets/base",
            "_view_module_version": "1.2.0",
            "_view_name": "StyleView",
            "description_width": ""
          }
        },
        "aff036b5152e4ee48c49fa0b6b045abf": {
          "model_module": "@jupyter-widgets/base",
          "model_name": "LayoutModel",
          "model_module_version": "1.2.0",
          "state": {
            "_model_module": "@jupyter-widgets/base",
            "_model_module_version": "1.2.0",
            "_model_name": "LayoutModel",
            "_view_count": null,
            "_view_module": "@jupyter-widgets/base",
            "_view_module_version": "1.2.0",
            "_view_name": "LayoutView",
            "align_content": null,
            "align_items": null,
            "align_self": null,
            "border": null,
            "bottom": null,
            "display": null,
            "flex": null,
            "flex_flow": null,
            "grid_area": null,
            "grid_auto_columns": null,
            "grid_auto_flow": null,
            "grid_auto_rows": null,
            "grid_column": null,
            "grid_gap": null,
            "grid_row": null,
            "grid_template_areas": null,
            "grid_template_columns": null,
            "grid_template_rows": null,
            "height": null,
            "justify_content": null,
            "justify_items": null,
            "left": null,
            "margin": null,
            "max_height": null,
            "max_width": null,
            "min_height": null,
            "min_width": null,
            "object_fit": null,
            "object_position": null,
            "order": null,
            "overflow": null,
            "overflow_x": null,
            "overflow_y": null,
            "padding": null,
            "right": null,
            "top": null,
            "visibility": null,
            "width": null
          }
        },
        "9e14812561a54864980fcda91553f661": {
          "model_module": "@jupyter-widgets/controls",
          "model_name": "ProgressStyleModel",
          "model_module_version": "1.5.0",
          "state": {
            "_model_module": "@jupyter-widgets/controls",
            "_model_module_version": "1.5.0",
            "_model_name": "ProgressStyleModel",
            "_view_count": null,
            "_view_module": "@jupyter-widgets/base",
            "_view_module_version": "1.2.0",
            "_view_name": "StyleView",
            "bar_color": null,
            "description_width": ""
          }
        },
        "7fbeac8660e043fcaf0cdc15d71df47a": {
          "model_module": "@jupyter-widgets/base",
          "model_name": "LayoutModel",
          "model_module_version": "1.2.0",
          "state": {
            "_model_module": "@jupyter-widgets/base",
            "_model_module_version": "1.2.0",
            "_model_name": "LayoutModel",
            "_view_count": null,
            "_view_module": "@jupyter-widgets/base",
            "_view_module_version": "1.2.0",
            "_view_name": "LayoutView",
            "align_content": null,
            "align_items": null,
            "align_self": null,
            "border": null,
            "bottom": null,
            "display": null,
            "flex": null,
            "flex_flow": null,
            "grid_area": null,
            "grid_auto_columns": null,
            "grid_auto_flow": null,
            "grid_auto_rows": null,
            "grid_column": null,
            "grid_gap": null,
            "grid_row": null,
            "grid_template_areas": null,
            "grid_template_columns": null,
            "grid_template_rows": null,
            "height": null,
            "justify_content": null,
            "justify_items": null,
            "left": null,
            "margin": null,
            "max_height": null,
            "max_width": null,
            "min_height": null,
            "min_width": null,
            "object_fit": null,
            "object_position": null,
            "order": null,
            "overflow": null,
            "overflow_x": null,
            "overflow_y": null,
            "padding": null,
            "right": null,
            "top": null,
            "visibility": null,
            "width": null
          }
        },
        "be3ee39fdfe34224aa94a039ab3a6c65": {
          "model_module": "@jupyter-widgets/controls",
          "model_name": "DescriptionStyleModel",
          "model_module_version": "1.5.0",
          "state": {
            "_model_module": "@jupyter-widgets/controls",
            "_model_module_version": "1.5.0",
            "_model_name": "DescriptionStyleModel",
            "_view_count": null,
            "_view_module": "@jupyter-widgets/base",
            "_view_module_version": "1.2.0",
            "_view_name": "StyleView",
            "description_width": ""
          }
        }
      }
    },
    "accelerator": "GPU"
  },
  "nbformat": 4,
  "nbformat_minor": 0
}